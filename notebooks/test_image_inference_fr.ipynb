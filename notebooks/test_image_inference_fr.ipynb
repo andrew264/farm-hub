{
 "cells": [
  {
   "cell_type": "code",
   "execution_count": 16,
   "id": "initial_id",
   "metadata": {
    "collapsed": true,
    "ExecuteTime": {
     "end_time": "2024-01-27T17:29:33.643968082Z",
     "start_time": "2024-01-27T17:29:33.641197224Z"
    }
   },
   "outputs": [],
   "source": [
    "import requests\n",
    "import base64\n",
    "\n",
    "SERVER_URL = 'http://localhost:12300'\n",
    "\n",
    "\n",
    "def do_image_inference(image_bytes) -> str:\n",
    "    image_base64 = base64.b64encode(image_bytes).decode('utf-8')\n",
    "    with requests.Session() as session:\n",
    "        with session.post(SERVER_URL, json={'image': image_base64}) as resp:\n",
    "            result = resp.json()\n",
    "            if 'class_name' in result:\n",
    "                return result\n",
    "            else:\n",
    "                return 'Error'"
   ]
  },
  {
   "cell_type": "code",
   "outputs": [
    {
     "name": "stdout",
     "output_type": "stream",
     "text": [
      "{'class_name': 'ASHOKA_BROWN_SPOTS', 'plant_name': 'ASHOKA', 'disease_name': 'BROWN_SPOTS', 'description': 'Saraca asoca, commonly known as the ashoka tree, caused due to cold draft combined with too much water, sunburn due to excessive light exposure, overwatering/lack of drainage, insufficient lighting conditions or underwatering.'}\n"
     ]
    }
   ],
   "source": [
    "path = \"../datasets/images/train/DYPSIS_LUTECENS/PXL_20240127_194230670.jpg\"\n",
    "with open(path, 'rb') as f:\n",
    "    image_bytes = f.read()\n",
    "    result = do_image_inference(image_bytes)\n",
    "    print(result)"
   ],
   "metadata": {
    "collapsed": false,
    "ExecuteTime": {
     "end_time": "2024-01-27T17:42:47.312380904Z",
     "start_time": "2024-01-27T17:42:47.175640131Z"
    }
   },
   "id": "e42a8b2f023d2ce3",
   "execution_count": 34
  },
  {
   "cell_type": "code",
   "outputs": [],
   "source": [],
   "metadata": {
    "collapsed": false
   },
   "id": "b199fbd6c4d683e8"
  }
 ],
 "metadata": {
  "kernelspec": {
   "display_name": "Python 3",
   "language": "python",
   "name": "python3"
  },
  "language_info": {
   "codemirror_mode": {
    "name": "ipython",
    "version": 2
   },
   "file_extension": ".py",
   "mimetype": "text/x-python",
   "name": "python",
   "nbconvert_exporter": "python",
   "pygments_lexer": "ipython2",
   "version": "2.7.6"
  }
 },
 "nbformat": 4,
 "nbformat_minor": 5
}
