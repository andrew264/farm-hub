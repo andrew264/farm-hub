{
 "cells": [
  {
   "cell_type": "code",
   "execution_count": 7,
   "id": "initial_id",
   "metadata": {
    "collapsed": true,
    "ExecuteTime": {
     "end_time": "2023-10-06T22:49:04.071996286Z",
     "start_time": "2023-10-06T22:49:04.069965233Z"
    }
   },
   "outputs": [],
   "source": [
    "import requests\n",
    "import base64\n",
    "\n",
    "SERVER_URL = 'http://localhost:6969'"
   ]
  },
  {
   "cell_type": "code",
   "execution_count": 8,
   "id": "f4de67fd4aa6e8fe",
   "metadata": {
    "collapsed": false,
    "ExecuteTime": {
     "end_time": "2023-10-06T22:49:05.106656913Z",
     "start_time": "2023-10-06T22:49:05.101917739Z"
    }
   },
   "outputs": [],
   "source": [
    "try:\n",
    "    with open('../datasets/sample.jpg', 'rb') as f:\n",
    "        image = f.read()\n",
    "        image_base64 = base64.b64encode(image)\n",
    "except FileNotFoundError:\n",
    "    image_base64 = None\n",
    "    \n",
    "\n",
    "input_json = {\n",
    "    \"message\": \"Explain the contents of the image.\",\n",
    "    \"image\": image_base64.decode('utf-8')\n",
    "}"
   ]
  },
  {
   "cell_type": "code",
   "execution_count": 9,
   "id": "fae8d2f88106c6e3",
   "metadata": {
    "collapsed": false,
    "ExecuteTime": {
     "end_time": "2023-10-06T22:49:22.058849574Z",
     "start_time": "2023-10-06T22:49:06.217737528Z"
    }
   },
   "outputs": [
    {
     "name": "stdout",
     "output_type": "stream",
     "text": [
      "Of course! I'm happy to help. The image you provided shows a close-up view of a mature watermelon fruit. Here are some key things you can observe in the image:\n",
      "1. Rind color: The rind of the watermelon is light greenish-yellow in color, which is typical for a mature watermelon.\n",
      "2. Size: The watermelon in the image appears to be a medium-sized fruit, with a roughly spherical shape.\n",
      "3. Surface texture: The rind of the watermelon has a smooth, slightly bumpy texture, which is typical for this type of fruit.\n",
      "4. Seeds: The image shows the seeds of the watermelon located inside the fruit, near the top. The seeds are small and white in color.\n",
      "5. Stem end: The stem end of the watermelon is visible at the top of the image, with a slight indentation where it attaches to the fruit.\n",
      "Now, if you have any questions or concerns about this watermelon image, please feel free to ask!\n"
     ]
    }
   ],
   "source": [
    "import httpx\n",
    "\n",
    "async def async_request():\n",
    "    async with httpx.AsyncClient() as client:\n",
    "        try:\n",
    "            response = await client.post(SERVER_URL, json=input_json, timeout=40.0)\n",
    "            \n",
    "            if response.status_code == 200:\n",
    "                print(response.json()['message'])\n",
    "            else:\n",
    "                print(f\"Request failed with status code {response.status_code}: {response.text}\")\n",
    "        except httpx.TimeoutException as exc:\n",
    "            print(f\"Request timed out: {exc}\")\n",
    "\n",
    "await async_request()"
   ]
  },
  {
   "cell_type": "code",
   "execution_count": 10,
   "id": "f6343d62c2efa64",
   "metadata": {
    "collapsed": false,
    "ExecuteTime": {
     "end_time": "2023-10-06T22:49:55.481937083Z",
     "start_time": "2023-10-06T22:49:55.464246156Z"
    }
   },
   "outputs": [
    {
     "name": "stdout",
     "output_type": "stream",
     "text": []
    }
   ],
   "source": [
    "inp = {\n",
    "    'reset_dialog': True\n",
    "}\n",
    "\n",
    "async def reset():\n",
    "    async with httpx.AsyncClient() as client:\n",
    "        try:\n",
    "            response = await client.post(SERVER_URL, json=inp)\n",
    "            \n",
    "            if response.status_code == 200:\n",
    "                print(response.text)\n",
    "            else:\n",
    "                print(f\"Request failed with status code {response.status_code}: {response.text}\")\n",
    "        except httpx.TimeoutException as exc:\n",
    "            print(f\"Request timed out: {exc}\")\n",
    "            \n",
    "await reset()"
   ]
  },
  {
   "cell_type": "code",
   "execution_count": 21,
   "id": "9a0958356c9c56f8",
   "metadata": {
    "collapsed": false,
    "ExecuteTime": {
     "end_time": "2023-10-06T22:30:10.117559158Z",
     "start_time": "2023-10-06T22:30:10.064400283Z"
    }
   },
   "outputs": [],
   "source": []
  }
 ],
 "metadata": {
  "kernelspec": {
   "display_name": "Python 3",
   "language": "python",
   "name": "python3"
  },
  "language_info": {
   "codemirror_mode": {
    "name": "ipython",
    "version": 2
   },
   "file_extension": ".py",
   "mimetype": "text/x-python",
   "name": "python",
   "nbconvert_exporter": "python",
   "pygments_lexer": "ipython2",
   "version": "3.10.10"
  }
 },
 "nbformat": 4,
 "nbformat_minor": 5
}
