{
 "cells": [
  {
   "cell_type": "code",
   "execution_count": 1,
   "id": "initial_id",
   "metadata": {
    "collapsed": true,
    "ExecuteTime": {
     "end_time": "2024-01-22T23:50:50.790068589Z",
     "start_time": "2024-01-22T23:50:50.736729475Z"
    }
   },
   "outputs": [],
   "source": [
    "import requests\n",
    "import base64\n",
    "\n",
    "SERVER_URL = 'http://localhost:12300'"
   ]
  },
  {
   "cell_type": "code",
   "execution_count": 2,
   "id": "9a0958356c9c56f8",
   "metadata": {
    "collapsed": false,
    "ExecuteTime": {
     "end_time": "2024-01-22T23:50:51.845677910Z",
     "start_time": "2024-01-22T23:50:51.843863731Z"
    }
   },
   "outputs": [],
   "source": [
    "def do_image_inference(image_bytes) -> str:\n",
    "    image_base64 = base64.b64encode(image_bytes).decode('utf-8')\n",
    "    with requests.Session() as session:\n",
    "        with session.post(SERVER_URL, json={'image': image_base64}) as resp:\n",
    "            result = resp.json()\n",
    "            if 'result' in result:\n",
    "                return result['result']\n",
    "            else:\n",
    "                print(result)\n",
    "                return 'Error'"
   ]
  },
  {
   "cell_type": "code",
   "outputs": [
    {
     "data": {
      "text/plain": "'Image contains tomato leaf with yellow leaf curl virus disease\\nimage description: Tomato yellow leaf curl, caused by the Tomato yellow leaf curl virus, was first identified in California in 2007 with limited distribution. Infected tomato plants display stunted, upright growth, small curled leaves with yellowing, and reduced fruit production, often leading to significant yield losses.\\n'"
     },
     "execution_count": 4,
     "metadata": {},
     "output_type": "execute_result"
    }
   ],
   "source": [
    "with open('../datasets/images/valid/TOMATO_LEAF_YELLOW_LEAF_CURL_VIRUS/ff46311d-9868-4313-8834-eaf2f3259b27___UF.GRC_YLCV_Lab 02625.JPG', 'rb') as f:\n",
    "    image = f.read()\n",
    "do_image_inference(image)    "
   ],
   "metadata": {
    "collapsed": false,
    "ExecuteTime": {
     "end_time": "2024-01-22T23:52:26.141861728Z",
     "start_time": "2024-01-22T23:52:26.071667515Z"
    }
   },
   "id": "fa18764c33ac41c2",
   "execution_count": 4
  },
  {
   "cell_type": "code",
   "outputs": [],
   "source": [
    "import websockets\n",
    "\n",
    "LLM_SERVER_URI = f'ws://localhost:12301'\n",
    "WS_EOS = '//EOS//'\n",
    "\n",
    "async def do_llm_inference() -> str:\n",
    "    async with websockets.connect(LLM_SERVER_URI, ping_interval=None) as websocket:\n",
    "        await websocket.send(\"The time i visited my uncle's house\")\n",
    "\n",
    "        full_response = ''\n",
    "        while True:\n",
    "            response = await websocket.recv()\n",
    "            if response == WS_EOS:\n",
    "                break\n",
    "            else:\n",
    "                print(response, end='')\n",
    "                full_response += response\n",
    "\n",
    "    return full_response"
   ],
   "metadata": {
    "collapsed": false,
    "ExecuteTime": {
     "end_time": "2024-01-23T17:12:19.349947511Z",
     "start_time": "2024-01-23T17:12:19.307615410Z"
    }
   },
   "id": "32b012580c3a83df",
   "execution_count": 7
  },
  {
   "cell_type": "code",
   "outputs": [
    {
     "name": "stdout",
     "output_type": "stream",
     "text": [
      ", 2008\n",
      "\n",
      "My uncle lived in a small house on the outskirts of the town. It was a single-story building with a small garden in front and a playground for his kids behind. The house was painted in a light blue color and had a small porch in the front where my uncle would sit and read the newspaper in the evenings.\n",
      "I remember the day I visited him like it was yesterday. It was a sunny summer day, and I had just finished my exams. My uncle had invited me over for lunch, and I was excited to see him after a long time. As I walked up to the house, I could smell the aroma of cooking food wafting through the air. My uncle answered the door, and he was wearing a big smile on his face. He hugged me warmly and invited me inside.\n",
      "The living room was cozy and had a big window that let in a lot of light. There was a comfortable couch and a few chairs arranged around a coffee table. On the walls, there were pictures of my uncle's family and some framed certificates and awards he had won over the years. My uncle"
     ]
    }
   ],
   "source": [
    "_ = await do_llm_inference()"
   ],
   "metadata": {
    "collapsed": false,
    "ExecuteTime": {
     "end_time": "2024-01-23T17:12:23.610653579Z",
     "start_time": "2024-01-23T17:12:20.177780750Z"
    }
   },
   "id": "b6377ebab6b9f659",
   "execution_count": 8
  }
 ],
 "metadata": {
  "kernelspec": {
   "display_name": "Python 3",
   "language": "python",
   "name": "python3"
  },
  "language_info": {
   "codemirror_mode": {
    "name": "ipython",
    "version": 2
   },
   "file_extension": ".py",
   "mimetype": "text/x-python",
   "name": "python",
   "nbconvert_exporter": "python",
   "pygments_lexer": "ipython2",
   "version": "3.10.10"
  }
 },
 "nbformat": 4,
 "nbformat_minor": 5
}
