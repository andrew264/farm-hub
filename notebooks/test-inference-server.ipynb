{
 "cells": [
  {
   "cell_type": "code",
   "execution_count": 1,
   "id": "initial_id",
   "metadata": {
    "collapsed": true,
    "ExecuteTime": {
     "end_time": "2024-01-22T23:50:50.790068589Z",
     "start_time": "2024-01-22T23:50:50.736729475Z"
    }
   },
   "outputs": [],
   "source": [
    "import requests\n",
    "import base64\n",
    "\n",
    "SERVER_URL = 'http://localhost:12300'"
   ]
  },
  {
   "cell_type": "code",
   "execution_count": 2,
   "id": "9a0958356c9c56f8",
   "metadata": {
    "collapsed": false,
    "ExecuteTime": {
     "end_time": "2024-01-22T23:50:51.845677910Z",
     "start_time": "2024-01-22T23:50:51.843863731Z"
    }
   },
   "outputs": [],
   "source": [
    "def do_image_inference(image_bytes) -> str:\n",
    "    image_base64 = base64.b64encode(image_bytes).decode('utf-8')\n",
    "    with requests.Session() as session:\n",
    "        with session.post(SERVER_URL, json={'image': image_base64}) as resp:\n",
    "            result = resp.json()\n",
    "            if 'result' in result:\n",
    "                return result['result']\n",
    "            else:\n",
    "                print(result)\n",
    "                return 'Error'"
   ]
  },
  {
   "cell_type": "code",
   "outputs": [
    {
     "data": {
      "text/plain": "'Image contains tomato leaf with yellow leaf curl virus disease\\nimage description: Tomato yellow leaf curl, caused by the Tomato yellow leaf curl virus, was first identified in California in 2007 with limited distribution. Infected tomato plants display stunted, upright growth, small curled leaves with yellowing, and reduced fruit production, often leading to significant yield losses.\\n'"
     },
     "execution_count": 4,
     "metadata": {},
     "output_type": "execute_result"
    }
   ],
   "source": [
    "with open('../datasets/images/valid/TOMATO_LEAF_YELLOW_LEAF_CURL_VIRUS/ff46311d-9868-4313-8834-eaf2f3259b27___UF.GRC_YLCV_Lab 02625.JPG', 'rb') as f:\n",
    "    image = f.read()\n",
    "do_image_inference(image)    "
   ],
   "metadata": {
    "collapsed": false,
    "ExecuteTime": {
     "end_time": "2024-01-22T23:52:26.141861728Z",
     "start_time": "2024-01-22T23:52:26.071667515Z"
    }
   },
   "id": "fa18764c33ac41c2",
   "execution_count": 4
  },
  {
   "cell_type": "code",
   "outputs": [],
   "source": [],
   "metadata": {
    "collapsed": false
   },
   "id": "32b012580c3a83df"
  }
 ],
 "metadata": {
  "kernelspec": {
   "display_name": "Python 3",
   "language": "python",
   "name": "python3"
  },
  "language_info": {
   "codemirror_mode": {
    "name": "ipython",
    "version": 2
   },
   "file_extension": ".py",
   "mimetype": "text/x-python",
   "name": "python",
   "nbconvert_exporter": "python",
   "pygments_lexer": "ipython2",
   "version": "3.10.10"
  }
 },
 "nbformat": 4,
 "nbformat_minor": 5
}
