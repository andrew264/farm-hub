{
 "cells": [
  {
   "cell_type": "code",
   "execution_count": 6,
   "id": "initial_id",
   "metadata": {
    "collapsed": true,
    "ExecuteTime": {
     "end_time": "2023-10-11T11:16:07.426147921Z",
     "start_time": "2023-10-11T11:16:07.425852538Z"
    }
   },
   "outputs": [],
   "source": [
    "import websockets\n",
    "\n",
    "WS_EOS = '//EOS//'"
   ]
  },
  {
   "cell_type": "code",
   "execution_count": 7,
   "outputs": [],
   "source": [
    "B_INST, E_INST = \"[INST]\", \"[/INST]\"\n",
    "B_SYS, E_SYS = \"<<SYS>>\\n\", \"\\n<</SYS>>\\n\\n\"\n",
    "BOS, EOS = \"<s>\", \"</s>\"\n",
    "\n",
    "# fmt: off\n",
    "DEFAULT_SYSTEM_PROMPT = \"\"\"You are a helpful, respectful and honest assistant. Always answer as helpfully as possible, while being safe. Your answers should not include any harmful, unethical, racist, sexist, toxic, dangerous, or illegal content. Please ensure that your responses are socially unbiased and positive in nature.\n",
    "\n",
    "If a question does not make any sense, or is not factually coherent, explain why instead of answering something not correct. If you don't know the answer to a question, please don't share false information.\"\"\"\n",
    "# fmt: on\n",
    "\n",
    "from typing import Literal, TypedDict, List\n",
    "\n",
    "Role = Literal[\"system\", \"user\", \"assistant\"]\n",
    "\n",
    "class Message(TypedDict):\n",
    "    role: Role\n",
    "    content: str\n",
    "    \n",
    "Dialog = List[Message]\n",
    "\n",
    "dialog: Dialog = [\n",
    "    {\"role\": \"system\",\"content\": DEFAULT_SYSTEM_PROMPT,},\n",
    "    {\"role\": \"user\", \"content\": \"What is love ?\"},\n",
    "]\n",
    "if dialog[0][\"role\"] == \"system\":\n",
    "    dialog = [\n",
    "        {\n",
    "            \"role\": dialog[1][\"role\"],\n",
    "            \"content\": B_SYS + dialog[0][\"content\"] + E_SYS + dialog[1][\"content\"],\n",
    "        }\n",
    "    ] + dialog[2:]\n"
   ],
   "metadata": {
    "collapsed": false,
    "ExecuteTime": {
     "end_time": "2023-10-11T11:16:07.426572634Z",
     "start_time": "2023-10-11T11:16:07.426068963Z"
    }
   },
   "id": "c65fc2e351c06ece"
  },
  {
   "cell_type": "code",
   "execution_count": 8,
   "outputs": [],
   "source": [
    "def get_tokens(dialog: Dialog) -> str:\n",
    "    dialog_tokens = sum(\n",
    "        [\n",
    "            [f\"{BOS}{B_INST} {(prompt['content']).strip()} {E_INST} {(answer['content']).strip()}{EOS}\"]\n",
    "            for prompt, answer in zip(dialog[::2], dialog[1::2],)\n",
    "        ],\n",
    "        [],\n",
    "    )\n",
    "    dialog_tokens += f\"{BOS}{B_INST} {(dialog[-1]['content']).strip()} {E_INST}{EOS}\",\n",
    "    return ''.join(dialog_tokens)"
   ],
   "metadata": {
    "collapsed": false,
    "ExecuteTime": {
     "end_time": "2023-10-11T11:16:07.429758087Z",
     "start_time": "2023-10-11T11:16:07.426384184Z"
    }
   },
   "id": "afb2c1d4496ca25f"
  },
  {
   "cell_type": "code",
   "execution_count": 9,
   "outputs": [],
   "source": [
    "async def send_message():\n",
    "    uri = \"ws://localhost:8765\"  # WebSocket server address\n",
    "\n",
    "    async with websockets.connect(uri) as websocket:\n",
    "        await websocket.send(get_tokens(dialog))\n",
    "\n",
    "        while True:\n",
    "            response = await websocket.recv()\n",
    "            if response == WS_EOS:\n",
    "                break\n",
    "            else:\n",
    "                print(response, end=\"\", flush=True)"
   ],
   "metadata": {
    "collapsed": false,
    "ExecuteTime": {
     "end_time": "2023-10-11T11:16:07.432686549Z",
     "start_time": "2023-10-11T11:16:07.427689349Z"
    }
   },
   "id": "a8555997e4ea47eb"
  },
  {
   "cell_type": "code",
   "execution_count": 10,
   "outputs": [
    {
     "name": "stdout",
     "output_type": "stream",
     "text": [
      " Hello! I'm here to help you with your question. Love is a complex and multifaceted emotion that can be difficult to define. At its core, love refers to a deep sense of affection, attachment, or connection towards another person or entity. It can take many forms, including romantic love, familial love, platonic love, and self-love.\n",
      "Love can be characterized by feelings of warmth, tenderness, compassion, and commitment. It involves caring for someone else's well-being and desiring their happiness, even if it means making sacrifices for their benefit. Love can also involve a sense of mutuality, where both parties feel valued and appreciated by each other.\n",
      "However, it's important to note that love is not always easy or straightforward. It can be challenging, messy, and complex, especially in long-term relationships. Additionally, different people may have different definitions and experiences of love, which can make it difficult to pin down a single, universally accepted definition.\n",
      "Ultimately, love is a highly personal and subjective experience that can be hard to quantify or explain. But at its core, it's about feeling connected to and caring for someone else in a deep and meaningful way."
     ]
    }
   ],
   "source": [
    "await send_message()"
   ],
   "metadata": {
    "collapsed": false,
    "ExecuteTime": {
     "end_time": "2023-10-11T11:16:15.585051005Z",
     "start_time": "2023-10-11T11:16:07.428461239Z"
    }
   },
   "id": "be94c17613560ea9"
  },
  {
   "cell_type": "code",
   "execution_count": 10,
   "outputs": [],
   "source": [],
   "metadata": {
    "collapsed": false,
    "ExecuteTime": {
     "end_time": "2023-10-11T11:16:15.625512798Z",
     "start_time": "2023-10-11T11:16:15.625204461Z"
    }
   },
   "id": "bf04ac038a4d526a"
  }
 ],
 "metadata": {
  "kernelspec": {
   "display_name": "Python 3",
   "language": "python",
   "name": "python3"
  },
  "language_info": {
   "codemirror_mode": {
    "name": "ipython",
    "version": 2
   },
   "file_extension": ".py",
   "mimetype": "text/x-python",
   "name": "python",
   "nbconvert_exporter": "python",
   "pygments_lexer": "ipython2",
   "version": "2.7.6"
  }
 },
 "nbformat": 4,
 "nbformat_minor": 5
}
