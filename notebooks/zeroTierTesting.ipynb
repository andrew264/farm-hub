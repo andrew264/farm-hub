{
 "cells": [
  {
   "cell_type": "code",
   "execution_count": 3,
   "metadata": {},
   "outputs": [],
   "source": [
    "import requests"
   ]
  },
  {
   "cell_type": "code",
   "execution_count": 7,
   "metadata": {},
   "outputs": [
    {
     "name": "stdout",
     "output_type": "stream",
     "text": [
      " Hello! I'm here to help you with any questions or issues related to farming and agriculture. Thank you for reaching out about fungal disease in tomatoes.\n",
      "Fungal diseases are common in tomatoes and can be caused by various types of fungi, including powdery mildew, rust, and botrytis. These fungi can infect the plant through wounds, insect damage, or water splash. Symptoms of fungal disease in tomatoes can include yellowing leaves, dark spots on leaves, fruit rot, and stunted growth.\n",
      "To address fungal disease in tomatoes, you can try the following steps:\n",
      "1. Remove infected plants: If the infection is severe, it may be best to remove the affected plant to prevent the disease from spreading to other crops.\n",
      "2. Use organic fungicides: Fungicides containing organic compounds such as neem oil or sulfur can help control fungal diseases. However, always read and follow the label instructions carefully to avoid any harm to people, pets, or the environment.\n",
      "3. Improve air circulation: Good air circulation can help prevent fungal diseases by reducing humidity around the plants. Ensure adequate spacing between plants to improve ventilation and reduce the risk of disease transmission.\n",
      "4. Practice good sanitation: Regularly remove any debris, weeds, or fallen leaves from your growing area. These can provide a haven for fungal spores and contribute to disease outbreaks.\n",
      "5. Avoid waterlogged soil: Overwatering can increase the risk of fungal diseases in tomatoes. Make sure to maintain adequate soil moisture without overdoing it, as this will help prevent root rot and other problems.\n",
      "I hope these steps help you address any fungal disease issues affecting your tomato plants. If you have any further questions or need additional assistance, please don't hesitate to ask!"
     ]
    }
   ],
   "source": [
    "SERVER_URL = 'http://192.168.69.128:8000'\n",
    "input_json = {\n",
    "    \"message\": \"What is Fungal Disease in Tomato ?\"\n",
    "}\n",
    "\n",
    "with requests.post(SERVER_URL, json=input_json, stream=True) as response:\n",
    "    if response.status_code == 200:\n",
    "        for chunk in response.iter_content(chunk_size=1):\n",
    "            if chunk:\n",
    "                print(chunk.decode('utf-8'), end=\"\", flush=True)\n",
    "    else:\n",
    "        print(f\"Request failed with status code {response.status_code}: {response.text}\")"
   ]
  },
  {
   "cell_type": "code",
   "execution_count": null,
   "metadata": {},
   "outputs": [],
   "source": []
  }
 ],
 "metadata": {
  "kernelspec": {
   "display_name": "Python 3",
   "language": "python",
   "name": "python3"
  },
  "language_info": {
   "codemirror_mode": {
    "name": "ipython",
    "version": 3
   },
   "file_extension": ".py",
   "mimetype": "text/x-python",
   "name": "python",
   "nbconvert_exporter": "python",
   "pygments_lexer": "ipython3",
   "version": "3.10.10"
  },
  "orig_nbformat": 4
 },
 "nbformat": 4,
 "nbformat_minor": 2
}
