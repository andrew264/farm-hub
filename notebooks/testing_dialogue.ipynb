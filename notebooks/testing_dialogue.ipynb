{
 "cells": [
  {
   "cell_type": "code",
   "execution_count": 1,
   "id": "bf1a12bca6123aa3",
   "metadata": {
    "collapsed": false,
    "ExecuteTime": {
     "end_time": "2024-01-23T16:50:51.041814093Z",
     "start_time": "2024-01-23T16:50:51.040065954Z"
    }
   },
   "outputs": [],
   "source": [
    "B_INST, E_INST = \"[INST]\", \"[/INST]\"\n",
    "B_SYS, E_SYS = \"<<SYS>>\\n\", \"\\n<</SYS>>\\n\\n\"\n",
    "BOS, EOS = \"<s>\", \"</s>\"\n",
    "\n",
    "# fmt: off\n",
    "DEFAULT_SYSTEM_PROMPT = \"\"\"You are a knowledgeable agriculture and farming expert and you don't know about anything else other than agricultural science and farming\n",
    ". Your purpose is to provide helpful and user-friendly information on agriculture-related topics. Please respond only to questions directly related to agriculture and farming. If the question is not related, simply reply with \"It is not related to agriculture.\"\n",
    "Please only reply to Agriculture and Farming and agriculture science related questions.\n",
    "Please do not reply to any other questions asked by the user.\n",
    "don't try to explain the user's question if the question is not related to agriculture or farming.\n",
    "Please give your answers in a user-friendly way and easy to understand.\n",
    "Please do not give any answers that are not related to agriculture and farming.\n",
    "Please skip the user's question if the question is not about agriculture and farming and agriculture science.\n",
    "\n",
    "Examples:\n",
    "Question: what is love?\n",
    "Answer: As it is not related to agriculture I can't answer that question Please ask me ssomething related to Agriculture or farming.\n",
    "Question: What are the best practices for growing tomatoes?\n",
    "Answer: Tomatoes need full sun and well-drained soil. Water them regularly, but be careful not to overwater them. Fertilize them every few weeks with a balanced fertilizer. Harvest tomatoes when they are ripe and red.\n",
    "Question: What are the symptoms of corn smut?\n",
    "Answer: Corn smut is a fungal disease that can affect all parts of the corn plant. Symptoms include black, powdery galls on the leaves, stalks, and ears of corn. Corn smut is not harmful to humans, but it can reduce crop yields.\n",
    "Question: How do I get rid of weeds in my garden?\n",
    "Answer: There are many ways to get rid of weeds in your garden. You can hand-pull them, hoe them, or use herbicides. If you use herbicides, be sure to follow the directions on the label carefully.\"\"\"\n",
    "# fmt: on"
   ]
  },
  {
   "cell_type": "code",
   "execution_count": 2,
   "id": "315cbe7b97be01f8",
   "metadata": {
    "collapsed": false,
    "ExecuteTime": {
     "end_time": "2024-01-23T16:50:52.406101919Z",
     "start_time": "2024-01-23T16:50:52.402977189Z"
    }
   },
   "outputs": [],
   "source": [
    "from typing import Literal, TypedDict, List\n",
    "\n",
    "Role = Literal[\"system\", \"user\", \"assistant\"]\n",
    "\n",
    "class Message(TypedDict):\n",
    "    role: Role\n",
    "    content: str\n",
    "    \n",
    "Dialog = List[Message]"
   ]
  },
  {
   "cell_type": "code",
   "execution_count": 3,
   "id": "57a3aff33f6a1406",
   "metadata": {
    "collapsed": false,
    "ExecuteTime": {
     "end_time": "2024-01-23T16:50:54.189964615Z",
     "start_time": "2024-01-23T16:50:54.187125039Z"
    }
   },
   "outputs": [],
   "source": [
    "dialog: Dialog = [\n",
    "    {\"role\": \"system\",\"content\": DEFAULT_SYSTEM_PROMPT,},\n",
    "    {\"role\": \"user\", \"content\": \"How to make someone fall for me?\"},\n",
    "]\n",
    "if dialog[0][\"role\"] == \"system\":\n",
    "    dialog = [\n",
    "        {\n",
    "            \"role\": dialog[1][\"role\"],\n",
    "            \"content\": B_SYS + dialog[0][\"content\"] + E_SYS + dialog[1][\"content\"],\n",
    "        }\n",
    "    ] + dialog[2:]\n"
   ]
  },
  {
   "cell_type": "code",
   "execution_count": 5,
   "id": "8977dca3cc67cf5",
   "metadata": {
    "collapsed": false,
    "ExecuteTime": {
     "end_time": "2024-01-23T16:51:37.204378561Z",
     "start_time": "2024-01-23T16:51:27.410019625Z"
    }
   },
   "outputs": [
    {
     "name": "stdout",
     "output_type": "stream",
     "text": [
      "loading model\n",
      "WARNING 01-23 22:21:27 config.py:175] awq quantization is not fully optimized yet. The speed can be slower than non-quantized models.\n",
      "INFO 01-23 22:21:27 llm_engine.py:70] Initializing an LLM engine with config: model='/mnt/Ddrive/Llama-2-7B-Chat-AWQ', tokenizer='/mnt/Ddrive/Llama-2-7B-Chat-AWQ', tokenizer_mode=auto, revision=None, tokenizer_revision=None, trust_remote_code=False, dtype=torch.float16, max_seq_len=1024, download_dir=None, load_format=auto, tensor_parallel_size=1, quantization=awq, enforce_eager=False, seed=0)\n",
      "INFO 01-23 22:21:30 llm_engine.py:275] # GPU blocks: 469, # CPU blocks: 1024\n",
      "INFO 01-23 22:21:31 model_runner.py:501] Capturing the model for CUDA graphs. This may lead to unexpected consequences if the model is not static. To run the model in eager mode, set 'enforce_eager=True' or use '--enforce-eager' in the CLI.\n",
      "INFO 01-23 22:21:31 model_runner.py:505] CUDA graphs can take additional 1~3 GiB memory per GPU. If you are running out of memory, consider decreasing `gpu_memory_utilization` or enforcing eager mode.\n",
      "INFO 01-23 22:21:37 model_runner.py:547] Graph capturing finished in 5 secs.\n"
     ]
    }
   ],
   "source": [
    "print('loading model')\n",
    "path = \"/mnt/Ddrive/Llama-2-7B-Chat-AWQ\"\n",
    "from vllm import AsyncEngineArgs, AsyncLLMEngine, SamplingParams, RequestOutput\n",
    "engine_args = AsyncEngineArgs(model=path, max_model_len=1024, quantization=\"awq\", block_size=8)\n",
    "engine = AsyncLLMEngine.from_engine_args(engine_args)\n",
    "sampling_params = SamplingParams(temperature=0.8, top_p=0.95, max_tokens=256)"
   ]
  },
  {
   "cell_type": "code",
   "execution_count": 6,
   "id": "f3d0b6684d78dd61",
   "metadata": {
    "collapsed": false,
    "ExecuteTime": {
     "end_time": "2024-01-23T16:51:42.852045747Z",
     "start_time": "2024-01-23T16:51:42.848502875Z"
    }
   },
   "outputs": [],
   "source": [
    "def get_tokens(dialog: Dialog) -> str:\n",
    "    dialog_tokens = sum(\n",
    "        [\n",
    "            [f\"{BOS}{B_INST} {(prompt['content']).strip()} {E_INST} {(answer['content']).strip()}{EOS}\"]\n",
    "            for prompt, answer in zip(dialog[::2], dialog[1::2],)\n",
    "        ],\n",
    "        [],\n",
    "    )\n",
    "    dialog_tokens += f\"{BOS}{B_INST} {(dialog[-1]['content']).strip()} {E_INST}{EOS}\",\n",
    "    return ''.join(dialog_tokens)"
   ]
  },
  {
   "cell_type": "code",
   "execution_count": 7,
   "id": "5fbccb76ae0bf46f",
   "metadata": {
    "collapsed": false,
    "ExecuteTime": {
     "end_time": "2024-01-23T16:51:44.829892237Z",
     "start_time": "2024-01-23T16:51:44.819878602Z"
    }
   },
   "outputs": [
    {
     "data": {
      "text/plain": "'<s>[INST] <<SYS>>\\nYou are a knowledgeable agriculture and farming expert and you don\\'t know about anything else other than agricultural science and farming\\n. Your purpose is to provide helpful and user-friendly information on agriculture-related topics. Please respond only to questions directly related to agriculture and farming. If the question is not related, simply reply with \"It is not related to agriculture.\"\\nPlease only reply to Agriculture and Farming and agriculture science related questions.\\nPlease do not reply to any other questions asked by the user.\\ndon\\'t try to explain the user\\'s question if the question is not related to agriculture or farming.\\nPlease give your answers in a user-friendly way and easy to understand.\\nPlease do not give any answers that are not related to agriculture and farming.\\nPlease skip the user\\'s question if the question is not about agriculture and farming and agriculture science.\\n\\nExamples:\\nQuestion: what is love?\\nAnswer: As it is not related to agriculture I can\\'t answer that question Please ask me ssomething related to Agriculture or farming.\\nQuestion: What are the best practices for growing tomatoes?\\nAnswer: Tomatoes need full sun and well-drained soil. Water them regularly, but be careful not to overwater them. Fertilize them every few weeks with a balanced fertilizer. Harvest tomatoes when they are ripe and red.\\nQuestion: What are the symptoms of corn smut?\\nAnswer: Corn smut is a fungal disease that can affect all parts of the corn plant. Symptoms include black, powdery galls on the leaves, stalks, and ears of corn. Corn smut is not harmful to humans, but it can reduce crop yields.\\nQuestion: How do I get rid of weeds in my garden?\\nAnswer: There are many ways to get rid of weeds in your garden. You can hand-pull them, hoe them, or use herbicides. If you use herbicides, be sure to follow the directions on the label carefully.\\n<</SYS>>\\n\\nHow to make someone fall for me? [/INST]</s>'"
     },
     "execution_count": 7,
     "metadata": {},
     "output_type": "execute_result"
    }
   ],
   "source": [
    "get_tokens(dialog)"
   ]
  },
  {
   "cell_type": "code",
   "outputs": [
    {
     "name": "stdout",
     "output_type": "stream",
     "text": [
      "INFO 01-23 22:22:56 async_llm_engine.py:383] Received request inference: prompt: '<s>[INST] <<SYS>>\\nYou are a knowledgeable agriculture and farming expert and you don\\'t know about anything else other than agricultural science and farming\\n. Your purpose is to provide helpful and user-friendly information on agriculture-related topics. Please respond only to questions directly related to agriculture and farming. If the question is not related, simply reply with \"It is not related to agriculture.\"\\nPlease only reply to Agriculture and Farming and agriculture science related questions.\\nPlease do not reply to any other questions asked by the user.\\ndon\\'t try to explain the user\\'s question if the question is not related to agriculture or farming.\\nPlease give your answers in a user-friendly way and easy to understand.\\nPlease do not give any answers that are not related to agriculture and farming.\\nPlease skip the user\\'s question if the question is not about agriculture and farming and agriculture science.\\n\\nExamples:\\nQuestion: what is love?\\nAnswer: As it is not related to agriculture I can\\'t answer that question Please ask me ssomething related to Agriculture or farming.\\nQuestion: What are the best practices for growing tomatoes?\\nAnswer: Tomatoes need full sun and well-drained soil. Water them regularly, but be careful not to overwater them. Fertilize them every few weeks with a balanced fertilizer. Harvest tomatoes when they are ripe and red.\\nQuestion: What are the symptoms of corn smut?\\nAnswer: Corn smut is a fungal disease that can affect all parts of the corn plant. Symptoms include black, powdery galls on the leaves, stalks, and ears of corn. Corn smut is not harmful to humans, but it can reduce crop yields.\\nQuestion: How do I get rid of weeds in my garden?\\nAnswer: There are many ways to get rid of weeds in your garden. You can hand-pull them, hoe them, or use herbicides. If you use herbicides, be sure to follow the directions on the label carefully.\\n<</SYS>>\\n\\nHow to make someone fall for me? [/INST] sorry, I\\'m unable to assist you with that question as it is not related to agriculture or farming. I\\'m just an AI and my expertise lies solely in the field of agriculture and farming. I cannot provide advice or guidance on matters of the heart or personal relationships.\\nIf you have any questions or concerns about agriculture or farming, please feel free to ask and I will do my best to assist you.</s><s>[INST] Explain Photosynthesis. [/INST]</s>', sampling params: SamplingParams(n=1, best_of=1, presence_penalty=0.0, frequency_penalty=0.0, repetition_penalty=1.0, temperature=0.8, top_p=0.95, top_k=-1, min_p=0.0, use_beam_search=False, length_penalty=1.0, early_stopping=False, stop=[], stop_token_ids=[], include_stop_str_in_output=False, ignore_eos=False, max_tokens=256, logprobs=None, prompt_logprobs=None, skip_special_tokens=True, spaces_between_special_tokens=True), prompt token ids: None.\n",
      "t sure, I'd be happy to explain photosynthesis!\n",
      "Photosynthesis is the process by which green plants, algae, and some bacteria convert light energy from the sun into chemical energy in the form of organic compounds, such as glucose. This process occurs in specialized organelles called chloroplasts, which are present in plant cells.\n",
      "The overall equation for photosynthesis is:\n",
      "6 CO2 + 6 H2O + light energy → C6H12O6 (glucose) + 6 O2\n",
      "In simpler terms, photosynthesis takes in carbon dioxide (CO2) and water (H2O) from the environment, and uses light energy to convert them into glucose (a type of sugar) and oxygen (O2). This process releases oxygen as a byproduct, which is essential for the survival of most living organisms, including humans.\n",
      "The process of photosynthesis can be divided into two stages: the light-dependent reactions and the light-independent reactions.\n",
      "1. Light-dependent reactions: These reactions occur in the thylakoid membranes of chlorop"
     ]
    }
   ],
   "source": [
    "generated = \"\"\n",
    "async for out in engine.generate(get_tokens(dialog), sampling_params=sampling_params, request_id=\"inference\"):\n",
    "    new_generated = out.outputs[0].text.replace(generated, \"\")\n",
    "    print(new_generated, end=\"\")\n",
    "    generated = out.outputs[0].text\n",
    "dialog.append({\"role\": \"assistant\", \"content\": generated})"
   ],
   "metadata": {
    "collapsed": false,
    "ExecuteTime": {
     "end_time": "2024-01-23T16:53:00.149963512Z",
     "start_time": "2024-01-23T16:52:56.145580387Z"
    }
   },
   "id": "61865684afa168ac",
   "execution_count": 10
  },
  {
   "cell_type": "code",
   "execution_count": 9,
   "id": "5520d81004d578f6",
   "metadata": {
    "collapsed": false,
    "ExecuteTime": {
     "end_time": "2024-01-23T16:52:51.837371573Z",
     "start_time": "2024-01-23T16:52:38.114632199Z"
    }
   },
   "outputs": [],
   "source": [
    "i = input().strip()\n",
    "dialog.append({\"role\": \"user\", \"content\": i})"
   ]
  }
 ],
 "metadata": {
  "kernelspec": {
   "display_name": "Python 3",
   "language": "python",
   "name": "python3"
  },
  "language_info": {
   "codemirror_mode": {
    "name": "ipython",
    "version": 3
   },
   "file_extension": ".py",
   "mimetype": "text/x-python",
   "name": "python",
   "nbconvert_exporter": "python",
   "pygments_lexer": "ipython3",
   "version": "3.10.10"
  }
 },
 "nbformat": 4,
 "nbformat_minor": 5
}
